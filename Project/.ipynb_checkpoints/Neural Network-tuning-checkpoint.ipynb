{
 "cells": [
  {
   "cell_type": "markdown",
   "metadata": {},
   "source": [
    "# Load packages"
   ]
  },
  {
   "cell_type": "code",
   "execution_count": 220,
   "metadata": {},
   "outputs": [],
   "source": [
    "from keras.preprocessing import sequence\n",
    "from keras.models import Sequential\n",
    "from keras.layers import Dense, Dropout\n",
    "from sklearn.preprocessing import MinMaxScaler\n",
    "import pandas as pd\n",
    "import matplotlib.pyplot as plt\n",
    "import numpy as np\n",
    "from sklearn import preprocessing\n",
    "from sklearn import linear_model\n",
    "from sklearn.model_selection import train_test_split\n",
    "from sklearn.pipeline import Pipeline\n",
    "from sklearn.preprocessing import PolynomialFeatures\n",
    "from sklearn.decomposition import PCA\n",
    "import matplotlib\n",
    "import matplotlib.pyplot as plt\n",
    "from sklearn.metrics import mean_absolute_error\n",
    "from sklearn.metrics import mean_squared_error"
   ]
  },
  {
   "cell_type": "markdown",
   "metadata": {},
   "source": [
    "# Preprocessing"
   ]
  },
  {
   "cell_type": "code",
   "execution_count": 221,
   "metadata": {},
   "outputs": [],
   "source": [
    "df = pd.read_excel(\"../regression_analysis_codes/Real estate valuation data set.xlsx\")\n",
    "df = pd.DataFrame(df)\n",
    "df = df.drop(['No'],axis=1)\n",
    "df = np.array(df)\n",
    "splitted_array = np.split(df,[-1],axis=1)\n",
    "data = pd.DataFrame(splitted_array[0])\n",
    "label = pd.DataFrame(splitted_array[1])\n",
    "scaler = preprocessing.MinMaxScaler()\n",
    "data = scaler.fit_transform(data)\n",
    "data = pd.DataFrame(data)"
   ]
  },
  {
   "cell_type": "markdown",
   "metadata": {},
   "source": [
    "# Dividing dataset into training set and testing set"
   ]
  },
  {
   "cell_type": "code",
   "execution_count": 222,
   "metadata": {},
   "outputs": [],
   "source": [
    "X_train, X_test, y_train, y_test = train_test_split(data, label, test_size=0.25, random_state=0)"
   ]
  },
  {
   "cell_type": "markdown",
   "metadata": {},
   "source": [
    "# MLP"
   ]
  },
  {
   "cell_type": "code",
   "execution_count": 223,
   "metadata": {},
   "outputs": [
    {
     "name": "stdout",
     "output_type": "stream",
     "text": [
      "Model: \"sequential_25\"\n",
      "_________________________________________________________________\n",
      "Layer (type)                 Output Shape              Param #   \n",
      "=================================================================\n",
      "dense_154 (Dense)            (None, 8)                 56        \n",
      "_________________________________________________________________\n",
      "dense_155 (Dense)            (None, 16)                144       \n",
      "_________________________________________________________________\n",
      "dense_156 (Dense)            (None, 32)                544       \n",
      "_________________________________________________________________\n",
      "dense_157 (Dense)            (None, 16)                528       \n",
      "_________________________________________________________________\n",
      "dense_158 (Dense)            (None, 8)                 136       \n",
      "_________________________________________________________________\n",
      "dense_159 (Dense)            (None, 1)                 9         \n",
      "=================================================================\n",
      "Total params: 1,417\n",
      "Trainable params: 1,417\n",
      "Non-trainable params: 0\n",
      "_________________________________________________________________\n",
      "None\n",
      "Epoch 1/100\n",
      "310/310 [==============================] - 0s 642us/step - loss: 1653.4144\n",
      "Epoch 2/100\n",
      "310/310 [==============================] - 0s 35us/step - loss: 1651.4721\n",
      "Epoch 3/100\n",
      "310/310 [==============================] - 0s 26us/step - loss: 1648.8798\n",
      "Epoch 4/100\n",
      "310/310 [==============================] - 0s 28us/step - loss: 1645.5982\n",
      "Epoch 5/100\n",
      "310/310 [==============================] - 0s 28us/step - loss: 1640.8695\n",
      "Epoch 6/100\n",
      "310/310 [==============================] - 0s 32us/step - loss: 1632.5017\n",
      "Epoch 7/100\n",
      "310/310 [==============================] - 0s 27us/step - loss: 1616.5110\n",
      "Epoch 8/100\n",
      "310/310 [==============================] - 0s 30us/step - loss: 1587.9056\n",
      "Epoch 9/100\n",
      "310/310 [==============================] - 0s 28us/step - loss: 1542.2580\n",
      "Epoch 10/100\n",
      "310/310 [==============================] - 0s 27us/step - loss: 1471.3005\n",
      "Epoch 11/100\n",
      "310/310 [==============================] - 0s 27us/step - loss: 1365.7519\n",
      "Epoch 12/100\n",
      "310/310 [==============================] - 0s 26us/step - loss: 1214.5904\n",
      "Epoch 13/100\n",
      "310/310 [==============================] - 0s 29us/step - loss: 1011.4828\n",
      "Epoch 14/100\n",
      "310/310 [==============================] - 0s 26us/step - loss: 762.0488\n",
      "Epoch 15/100\n",
      "310/310 [==============================] - 0s 29us/step - loss: 502.0737\n",
      "Epoch 16/100\n",
      "310/310 [==============================] - 0s 27us/step - loss: 302.0105\n",
      "Epoch 17/100\n",
      "310/310 [==============================] - 0s 28us/step - loss: 208.3824\n",
      "Epoch 18/100\n",
      "310/310 [==============================] - 0s 27us/step - loss: 194.0612\n",
      "Epoch 19/100\n",
      "310/310 [==============================] - 0s 27us/step - loss: 187.3618\n",
      "Epoch 20/100\n",
      "310/310 [==============================] - 0s 27us/step - loss: 179.9365\n",
      "Epoch 21/100\n",
      "310/310 [==============================] - 0s 26us/step - loss: 172.6250\n",
      "Epoch 22/100\n",
      "310/310 [==============================] - 0s 24us/step - loss: 165.8708\n",
      "Epoch 23/100\n",
      "310/310 [==============================] - 0s 24us/step - loss: 159.4807\n",
      "Epoch 24/100\n",
      "310/310 [==============================] - 0s 23us/step - loss: 152.7082\n",
      "Epoch 25/100\n",
      "310/310 [==============================] - 0s 24us/step - loss: 145.9728\n",
      "Epoch 26/100\n",
      "310/310 [==============================] - 0s 21us/step - loss: 139.6739\n",
      "Epoch 27/100\n",
      "310/310 [==============================] - 0s 24us/step - loss: 134.2602\n",
      "Epoch 28/100\n",
      "310/310 [==============================] - 0s 23us/step - loss: 127.8098\n",
      "Epoch 29/100\n",
      "310/310 [==============================] - 0s 24us/step - loss: 122.6220\n",
      "Epoch 30/100\n",
      "310/310 [==============================] - 0s 21us/step - loss: 117.4106\n",
      "Epoch 31/100\n",
      "310/310 [==============================] - 0s 25us/step - loss: 113.0438\n",
      "Epoch 32/100\n",
      "310/310 [==============================] - 0s 26us/step - loss: 109.7667\n",
      "Epoch 33/100\n",
      "310/310 [==============================] - 0s 22us/step - loss: 105.5006\n",
      "Epoch 34/100\n",
      "310/310 [==============================] - 0s 24us/step - loss: 102.4541\n",
      "Epoch 35/100\n",
      "310/310 [==============================] - 0s 23us/step - loss: 99.6797\n",
      "Epoch 36/100\n",
      "310/310 [==============================] - 0s 25us/step - loss: 98.8218\n",
      "Epoch 37/100\n",
      "310/310 [==============================] - 0s 25us/step - loss: 96.4641\n",
      "Epoch 38/100\n",
      "310/310 [==============================] - 0s 23us/step - loss: 94.0915\n",
      "Epoch 39/100\n",
      "310/310 [==============================] - 0s 23us/step - loss: 92.9952\n",
      "Epoch 40/100\n",
      "310/310 [==============================] - 0s 26us/step - loss: 91.6876\n",
      "Epoch 41/100\n",
      "310/310 [==============================] - 0s 29us/step - loss: 90.5070\n",
      "Epoch 42/100\n",
      "310/310 [==============================] - 0s 25us/step - loss: 89.4458\n",
      "Epoch 43/100\n",
      "310/310 [==============================] - 0s 24us/step - loss: 88.3315\n",
      "Epoch 44/100\n",
      "310/310 [==============================] - 0s 24us/step - loss: 87.7588\n",
      "Epoch 45/100\n",
      "310/310 [==============================] - 0s 24us/step - loss: 87.5320\n",
      "Epoch 46/100\n",
      "310/310 [==============================] - 0s 24us/step - loss: 85.7078\n",
      "Epoch 47/100\n",
      "310/310 [==============================] - 0s 23us/step - loss: 84.6855\n",
      "Epoch 48/100\n",
      "310/310 [==============================] - 0s 24us/step - loss: 84.9461\n",
      "Epoch 49/100\n",
      "310/310 [==============================] - 0s 25us/step - loss: 84.1468\n",
      "Epoch 50/100\n",
      "310/310 [==============================] - 0s 26us/step - loss: 82.6782\n",
      "Epoch 51/100\n",
      "310/310 [==============================] - 0s 26us/step - loss: 82.4814\n",
      "Epoch 52/100\n",
      "310/310 [==============================] - 0s 23us/step - loss: 81.8280\n",
      "Epoch 53/100\n",
      "310/310 [==============================] - 0s 22us/step - loss: 82.5208\n",
      "Epoch 54/100\n",
      "310/310 [==============================] - 0s 23us/step - loss: 81.5217\n",
      "Epoch 55/100\n",
      "310/310 [==============================] - 0s 23us/step - loss: 80.5650\n",
      "Epoch 56/100\n",
      "310/310 [==============================] - 0s 23us/step - loss: 80.0680\n",
      "Epoch 57/100\n",
      "310/310 [==============================] - 0s 21us/step - loss: 80.0656\n",
      "Epoch 58/100\n",
      "310/310 [==============================] - 0s 22us/step - loss: 79.9797\n",
      "Epoch 59/100\n",
      "310/310 [==============================] - 0s 25us/step - loss: 79.7444\n",
      "Epoch 60/100\n",
      "310/310 [==============================] - 0s 26us/step - loss: 79.6193\n",
      "Epoch 61/100\n",
      "310/310 [==============================] - 0s 26us/step - loss: 78.9736\n",
      "Epoch 62/100\n",
      "310/310 [==============================] - 0s 21us/step - loss: 79.6959\n",
      "Epoch 63/100\n",
      "310/310 [==============================] - 0s 22us/step - loss: 78.8734\n",
      "Epoch 64/100\n",
      "310/310 [==============================] - 0s 22us/step - loss: 78.3981\n",
      "Epoch 65/100\n",
      "310/310 [==============================] - 0s 23us/step - loss: 77.9310\n",
      "Epoch 66/100\n",
      "310/310 [==============================] - 0s 25us/step - loss: 78.2528\n",
      "Epoch 67/100\n",
      "310/310 [==============================] - 0s 24us/step - loss: 78.1556\n",
      "Epoch 68/100\n",
      "310/310 [==============================] - 0s 24us/step - loss: 77.1989\n",
      "Epoch 69/100\n",
      "310/310 [==============================] - 0s 24us/step - loss: 77.0828\n",
      "Epoch 70/100\n",
      "310/310 [==============================] - 0s 22us/step - loss: 76.5182\n",
      "Epoch 71/100\n",
      "310/310 [==============================] - 0s 23us/step - loss: 77.0831\n",
      "Epoch 72/100\n",
      "310/310 [==============================] - 0s 23us/step - loss: 76.4522\n",
      "Epoch 73/100\n",
      "310/310 [==============================] - 0s 23us/step - loss: 76.4770\n",
      "Epoch 74/100\n",
      "310/310 [==============================] - 0s 23us/step - loss: 76.1422\n",
      "Epoch 75/100\n",
      "310/310 [==============================] - 0s 22us/step - loss: 75.6252\n",
      "Epoch 76/100\n",
      "310/310 [==============================] - 0s 22us/step - loss: 76.9329\n",
      "Epoch 77/100\n",
      "310/310 [==============================] - 0s 23us/step - loss: 75.3021\n",
      "Epoch 78/100\n",
      "310/310 [==============================] - 0s 24us/step - loss: 75.4781\n",
      "Epoch 79/100\n",
      "310/310 [==============================] - 0s 24us/step - loss: 75.0621\n",
      "Epoch 80/100\n",
      "310/310 [==============================] - 0s 23us/step - loss: 74.7239\n",
      "Epoch 81/100\n",
      "310/310 [==============================] - 0s 24us/step - loss: 75.4283\n",
      "Epoch 82/100\n",
      "310/310 [==============================] - 0s 26us/step - loss: 74.3083\n",
      "Epoch 83/100\n"
     ]
    },
    {
     "name": "stdout",
     "output_type": "stream",
     "text": [
      "310/310 [==============================] - 0s 25us/step - loss: 73.9865\n",
      "Epoch 84/100\n",
      "310/310 [==============================] - 0s 24us/step - loss: 74.5883\n",
      "Epoch 85/100\n",
      "310/310 [==============================] - 0s 26us/step - loss: 74.5617\n",
      "Epoch 86/100\n",
      "310/310 [==============================] - 0s 23us/step - loss: 73.8315\n",
      "Epoch 87/100\n",
      "310/310 [==============================] - 0s 29us/step - loss: 73.5358\n",
      "Epoch 88/100\n",
      "310/310 [==============================] - 0s 24us/step - loss: 73.7336\n",
      "Epoch 89/100\n",
      "310/310 [==============================] - 0s 24us/step - loss: 73.1749\n",
      "Epoch 90/100\n",
      "310/310 [==============================] - 0s 26us/step - loss: 73.1681\n",
      "Epoch 91/100\n",
      "310/310 [==============================] - 0s 23us/step - loss: 73.5762\n",
      "Epoch 92/100\n",
      "310/310 [==============================] - 0s 24us/step - loss: 72.8717\n",
      "Epoch 93/100\n",
      "310/310 [==============================] - 0s 27us/step - loss: 74.3801\n",
      "Epoch 94/100\n",
      "310/310 [==============================] - 0s 20us/step - loss: 72.7310\n",
      "Epoch 95/100\n",
      "310/310 [==============================] - 0s 22us/step - loss: 72.4823\n",
      "Epoch 96/100\n",
      "310/310 [==============================] - 0s 26us/step - loss: 72.8620\n",
      "Epoch 97/100\n",
      "310/310 [==============================] - 0s 21us/step - loss: 73.9836\n",
      "Epoch 98/100\n",
      "310/310 [==============================] - 0s 25us/step - loss: 72.1589\n",
      "Epoch 99/100\n",
      "310/310 [==============================] - 0s 22us/step - loss: 72.1802\n",
      "Epoch 100/100\n",
      "310/310 [==============================] - 0s 26us/step - loss: 71.7210\n"
     ]
    }
   ],
   "source": [
    "model = Sequential()  \n",
    "model.add(Dense(units = 8,use_bias = True,activation='relu',input_shape=(X_train.shape[1],) ))\n",
    "model.add(Dense(units = 16,use_bias = True,activation='relu'))\n",
    "model.add(Dense(units = 32,use_bias = True,activation='relu'))\n",
    "model.add(Dense(units = 16,use_bias = True,activation='relu'))\n",
    "model.add(Dense(units = 8,use_bias = True,activation='relu'))\n",
    "model.add(Dense(units = 1,activation='linear'))\n",
    "print(model.summary())\n",
    "model.compile(loss='mse',optimizer='nadam')\n",
    "history = model.fit(X_train, y_train,epochs=300,batch_size=68)"
   ]
  },
  {
   "cell_type": "markdown",
   "metadata": {},
   "source": [
    "# Graph for convergence loss"
   ]
  },
  {
   "cell_type": "code",
   "execution_count": 224,
   "metadata": {},
   "outputs": [
    {
     "data": {
      "image/png": "[encoded data removed]",
      "text/plain": [
       "<Figure size 432x288 with 1 Axes>"
      ]
     },
     "metadata": {
      "needs_background": "light"
     },
     "output_type": "display_data"
    }
   ],
   "source": [
    "plt.plot(history.history['loss'])\n",
    "plt.ylabel('loss')\n",
    "plt.xlabel('epoch')\n",
    "plt.show()"
   ]
  },
  {
   "cell_type": "markdown",
   "metadata": {},
   "source": [
    "# MAE for training set"
   ]
  },
  {
   "cell_type": "code",
   "execution_count": 225,
   "metadata": {},
   "outputs": [
    {
     "data": {
      "text/plain": [
       "5.47037000348491"
      ]
     },
     "execution_count": 225,
     "metadata": {},
     "output_type": "execute_result"
    }
   ],
   "source": [
    "Y_pre = model.predict(X_train)\n",
    "mean_absolute_error(y_train, Y_pre)"
   ]
  },
  {
   "cell_type": "markdown",
   "metadata": {},
   "source": [
    "# MAE for testing set"
   ]
  },
  {
   "cell_type": "code",
   "execution_count": 226,
   "metadata": {},
   "outputs": [
    {
     "data": {
      "text/plain": [
       "5.505000712321356"
      ]
     },
     "execution_count": 226,
     "metadata": {},
     "output_type": "execute_result"
    }
   ],
   "source": [
    "y_pre = model.predict(X_test)\n",
    "mean_absolute_error(y_test, y_pre)"
   ]
  },
  {
   "cell_type": "markdown",
   "metadata": {},
   "source": [
    "# MSE for training set"
   ]
  },
  {
   "cell_type": "code",
   "execution_count": 227,
   "metadata": {},
   "outputs": [
    {
     "data": {
      "text/plain": [
       "72.32884408450846"
      ]
     },
     "execution_count": 227,
     "metadata": {},
     "output_type": "execute_result"
    }
   ],
   "source": [
    "mean_squared_error(y_train, Y_pre)"
   ]
  },
  {
   "cell_type": "markdown",
   "metadata": {},
   "source": [
    "# MSE for testing set"
   ]
  },
  {
   "cell_type": "code",
   "execution_count": 228,
   "metadata": {},
   "outputs": [
    {
     "data": {
      "text/plain": [
       "62.34567875012977"
      ]
     },
     "execution_count": 228,
     "metadata": {},
     "output_type": "execute_result"
    }
   ],
   "source": [
    "mean_squared_error(y_test, y_pre)"
   ]
  },
  {
   "cell_type": "code",
   "execution_count": null,
   "metadata": {},
   "outputs": [],
   "source": []
  }
 ],
 "metadata": {
  "kernelspec": {
   "display_name": "Python 3",
   "language": "python",
   "name": "python3"
  },
  "language_info": {
   "codemirror_mode": {
    "name": "ipython",
    "version": 3
   },
   "file_extension": ".py",
   "mimetype": "text/x-python",
   "name": "python",
   "nbconvert_exporter": "python",
   "pygments_lexer": "ipython3",
   "version": "3.7.3"
  }
 },
 "nbformat": 4,
 "nbformat_minor": 4
}
